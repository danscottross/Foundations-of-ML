{
  "cells": [
    {
      "attachments": {},
      "cell_type": "markdown",
      "metadata": {
        "id": "bbI9gWe6uJ91"
      },
      "source": [
        "# **Foundation of Machine Learning Course 2023: COVID Case Data Exploration and Modeling**"
      ]
    },
    {
      "attachments": {},
      "cell_type": "markdown",
      "metadata": {
        "id": "EQkSyV0QG62g"
      },
      "source": [
        "## Load Required Packages"
      ]
    },
    {
      "cell_type": "code",
      "execution_count": 1,
      "metadata": {
        "id": "Yd73yOmywmvL"
      },
      "outputs": [],
      "source": [
        "import pandas as pd\n",
        "import numpy as np\n",
        "import matplotlib.pyplot as plt\n",
        "import datetime as dt"
      ]
    },
    {
      "attachments": {},
      "cell_type": "markdown",
      "metadata": {
        "id": "UMDI5v-TK6Fk"
      },
      "source": [
        "## Reading in Data"
      ]
    },
    {
      "cell_type": "code",
      "execution_count": 2,
      "metadata": {
        "colab": {
          "base_uri": "https://localhost:8080/",
          "height": 206
        },
        "id": "gJvZdzg7woZw",
        "outputId": "a9b32ac2-d14c-4bf9-e0fd-cdd3206c2d09"
      },
      "outputs": [
        {
          "data": {
            "text/html": [
              "<div>\n",
              "<style scoped>\n",
              "    .dataframe tbody tr th:only-of-type {\n",
              "        vertical-align: middle;\n",
              "    }\n",
              "\n",
              "    .dataframe tbody tr th {\n",
              "        vertical-align: top;\n",
              "    }\n",
              "\n",
              "    .dataframe thead th {\n",
              "        text-align: right;\n",
              "    }\n",
              "</style>\n",
              "<table border=\"1\" class=\"dataframe\">\n",
              "  <thead>\n",
              "    <tr style=\"text-align: right;\">\n",
              "      <th></th>\n",
              "      <th>submission_date</th>\n",
              "      <th>state</th>\n",
              "      <th>tot_cases</th>\n",
              "      <th>conf_cases</th>\n",
              "      <th>prob_cases</th>\n",
              "      <th>new_case</th>\n",
              "      <th>pnew_case</th>\n",
              "      <th>tot_death</th>\n",
              "      <th>conf_death</th>\n",
              "      <th>prob_death</th>\n",
              "      <th>new_death</th>\n",
              "      <th>pnew_death</th>\n",
              "      <th>created_at</th>\n",
              "      <th>consent_cases</th>\n",
              "      <th>consent_deaths</th>\n",
              "    </tr>\n",
              "  </thead>\n",
              "  <tbody>\n",
              "    <tr>\n",
              "      <th>0</th>\n",
              "      <td>03/11/2021</td>\n",
              "      <td>KS</td>\n",
              "      <td>297229</td>\n",
              "      <td>241035.0</td>\n",
              "      <td>56194.0</td>\n",
              "      <td>0</td>\n",
              "      <td>0.0</td>\n",
              "      <td>4851</td>\n",
              "      <td>NaN</td>\n",
              "      <td>NaN</td>\n",
              "      <td>0</td>\n",
              "      <td>0.0</td>\n",
              "      <td>03/12/2021 03:20:13 PM</td>\n",
              "      <td>Agree</td>\n",
              "      <td>NaN</td>\n",
              "    </tr>\n",
              "    <tr>\n",
              "      <th>1</th>\n",
              "      <td>12/01/2021</td>\n",
              "      <td>ND</td>\n",
              "      <td>163565</td>\n",
              "      <td>135705.0</td>\n",
              "      <td>27860.0</td>\n",
              "      <td>589</td>\n",
              "      <td>220.0</td>\n",
              "      <td>1907</td>\n",
              "      <td>NaN</td>\n",
              "      <td>NaN</td>\n",
              "      <td>9</td>\n",
              "      <td>0.0</td>\n",
              "      <td>12/02/2021 02:35:20 PM</td>\n",
              "      <td>Agree</td>\n",
              "      <td>Not agree</td>\n",
              "    </tr>\n",
              "    <tr>\n",
              "      <th>2</th>\n",
              "      <td>01/02/2022</td>\n",
              "      <td>AS</td>\n",
              "      <td>11</td>\n",
              "      <td>NaN</td>\n",
              "      <td>NaN</td>\n",
              "      <td>0</td>\n",
              "      <td>0.0</td>\n",
              "      <td>0</td>\n",
              "      <td>NaN</td>\n",
              "      <td>NaN</td>\n",
              "      <td>0</td>\n",
              "      <td>0.0</td>\n",
              "      <td>01/03/2022 03:18:16 PM</td>\n",
              "      <td>NaN</td>\n",
              "      <td>NaN</td>\n",
              "    </tr>\n",
              "    <tr>\n",
              "      <th>3</th>\n",
              "      <td>11/22/2021</td>\n",
              "      <td>AL</td>\n",
              "      <td>841461</td>\n",
              "      <td>620483.0</td>\n",
              "      <td>220978.0</td>\n",
              "      <td>703</td>\n",
              "      <td>357.0</td>\n",
              "      <td>16377</td>\n",
              "      <td>12727.0</td>\n",
              "      <td>3650.0</td>\n",
              "      <td>7</td>\n",
              "      <td>3.0</td>\n",
              "      <td>11/22/2021 12:00:00 AM</td>\n",
              "      <td>Agree</td>\n",
              "      <td>Agree</td>\n",
              "    </tr>\n",
              "    <tr>\n",
              "      <th>4</th>\n",
              "      <td>05/30/2022</td>\n",
              "      <td>AK</td>\n",
              "      <td>251425</td>\n",
              "      <td>NaN</td>\n",
              "      <td>NaN</td>\n",
              "      <td>0</td>\n",
              "      <td>0.0</td>\n",
              "      <td>1252</td>\n",
              "      <td>NaN</td>\n",
              "      <td>NaN</td>\n",
              "      <td>0</td>\n",
              "      <td>0.0</td>\n",
              "      <td>05/31/2022 01:20:20 PM</td>\n",
              "      <td>NaN</td>\n",
              "      <td>NaN</td>\n",
              "    </tr>\n",
              "  </tbody>\n",
              "</table>\n",
              "</div>"
            ],
            "text/plain": [
              "  submission_date state  tot_cases  conf_cases  prob_cases  new_case  \\\n",
              "0      03/11/2021    KS     297229    241035.0     56194.0         0   \n",
              "1      12/01/2021    ND     163565    135705.0     27860.0       589   \n",
              "2      01/02/2022    AS         11         NaN         NaN         0   \n",
              "3      11/22/2021    AL     841461    620483.0    220978.0       703   \n",
              "4      05/30/2022    AK     251425         NaN         NaN         0   \n",
              "\n",
              "   pnew_case  tot_death  conf_death  prob_death  new_death  pnew_death  \\\n",
              "0        0.0       4851         NaN         NaN          0         0.0   \n",
              "1      220.0       1907         NaN         NaN          9         0.0   \n",
              "2        0.0          0         NaN         NaN          0         0.0   \n",
              "3      357.0      16377     12727.0      3650.0          7         3.0   \n",
              "4        0.0       1252         NaN         NaN          0         0.0   \n",
              "\n",
              "               created_at consent_cases consent_deaths  \n",
              "0  03/12/2021 03:20:13 PM         Agree            NaN  \n",
              "1  12/02/2021 02:35:20 PM         Agree      Not agree  \n",
              "2  01/03/2022 03:18:16 PM           NaN            NaN  \n",
              "3  11/22/2021 12:00:00 AM         Agree          Agree  \n",
              "4  05/31/2022 01:20:20 PM           NaN            NaN  "
            ]
          },
          "execution_count": 2,
          "metadata": {},
          "output_type": "execute_result"
        }
      ],
      "source": [
        "df = pd.read_csv(r\"C:\\Users\\daniel.s.ross\\OneDrive - Accenture Federal Services\\Foundations of ML\\United_States_COVID-19_Cases_and_Deaths_by_State_over_Time_-_ARCHIVED.csv\")\n",
        "df.head(5)"
      ]
    },
    {
      "attachments": {},
      "cell_type": "markdown",
      "metadata": {
        "id": "NLx76f82Lbeu"
      },
      "source": [
        "## Initial Data Transformation for Regression\n",
        "\n",
        "We will just look at VA and only the dates with more than zero deaths."
      ]
    },
    {
      "cell_type": "code",
      "execution_count": 3,
      "metadata": {},
      "outputs": [
        {
          "data": {
            "text/html": [
              "<div>\n",
              "<style scoped>\n",
              "    .dataframe tbody tr th:only-of-type {\n",
              "        vertical-align: middle;\n",
              "    }\n",
              "\n",
              "    .dataframe tbody tr th {\n",
              "        vertical-align: top;\n",
              "    }\n",
              "\n",
              "    .dataframe thead th {\n",
              "        text-align: right;\n",
              "    }\n",
              "</style>\n",
              "<table border=\"1\" class=\"dataframe\">\n",
              "  <thead>\n",
              "    <tr style=\"text-align: right;\">\n",
              "      <th></th>\n",
              "      <th>tot_cases</th>\n",
              "      <th>conf_cases</th>\n",
              "      <th>prob_cases</th>\n",
              "      <th>new_case</th>\n",
              "      <th>pnew_case</th>\n",
              "      <th>tot_death</th>\n",
              "      <th>conf_death</th>\n",
              "      <th>prob_death</th>\n",
              "      <th>new_death</th>\n",
              "      <th>pnew_death</th>\n",
              "    </tr>\n",
              "  </thead>\n",
              "  <tbody>\n",
              "    <tr>\n",
              "      <th>count</th>\n",
              "      <td>6.006000e+04</td>\n",
              "      <td>3.403400e+04</td>\n",
              "      <td>33962.000000</td>\n",
              "      <td>60060.000000</td>\n",
              "      <td>56534.000000</td>\n",
              "      <td>60060.000000</td>\n",
              "      <td>33273.000000</td>\n",
              "      <td>33273.000000</td>\n",
              "      <td>60060.000000</td>\n",
              "      <td>56566.000000</td>\n",
              "    </tr>\n",
              "    <tr>\n",
              "      <th>mean</th>\n",
              "      <td>6.569641e+05</td>\n",
              "      <td>6.527994e+05</td>\n",
              "      <td>107357.455686</td>\n",
              "      <td>1601.409574</td>\n",
              "      <td>267.290197</td>\n",
              "      <td>9351.235648</td>\n",
              "      <td>9015.954498</td>\n",
              "      <td>1093.250293</td>\n",
              "      <td>17.365335</td>\n",
              "      <td>1.825584</td>\n",
              "    </tr>\n",
              "    <tr>\n",
              "      <th>std</th>\n",
              "      <td>1.173490e+06</td>\n",
              "      <td>1.077693e+06</td>\n",
              "      <td>157946.539796</td>\n",
              "      <td>5074.263900</td>\n",
              "      <td>1439.172514</td>\n",
              "      <td>14591.369916</td>\n",
              "      <td>10431.915891</td>\n",
              "      <td>1549.192666</td>\n",
              "      <td>43.499174</td>\n",
              "      <td>24.534287</td>\n",
              "    </tr>\n",
              "    <tr>\n",
              "      <th>min</th>\n",
              "      <td>0.000000e+00</td>\n",
              "      <td>0.000000e+00</td>\n",
              "      <td>0.000000</td>\n",
              "      <td>-10199.000000</td>\n",
              "      <td>-171804.000000</td>\n",
              "      <td>0.000000</td>\n",
              "      <td>0.000000</td>\n",
              "      <td>0.000000</td>\n",
              "      <td>-352.000000</td>\n",
              "      <td>-2594.000000</td>\n",
              "    </tr>\n",
              "    <tr>\n",
              "      <th>25%</th>\n",
              "      <td>1.830325e+04</td>\n",
              "      <td>6.512275e+04</td>\n",
              "      <td>169.250000</td>\n",
              "      <td>3.000000</td>\n",
              "      <td>0.000000</td>\n",
              "      <td>361.000000</td>\n",
              "      <td>1377.000000</td>\n",
              "      <td>0.000000</td>\n",
              "      <td>0.000000</td>\n",
              "      <td>0.000000</td>\n",
              "    </tr>\n",
              "    <tr>\n",
              "      <th>50%</th>\n",
              "      <td>2.228415e+05</td>\n",
              "      <td>2.992460e+05</td>\n",
              "      <td>32175.000000</td>\n",
              "      <td>344.000000</td>\n",
              "      <td>1.000000</td>\n",
              "      <td>3241.000000</td>\n",
              "      <td>5193.000000</td>\n",
              "      <td>309.000000</td>\n",
              "      <td>3.000000</td>\n",
              "      <td>0.000000</td>\n",
              "    </tr>\n",
              "    <tr>\n",
              "      <th>75%</th>\n",
              "      <td>8.158552e+05</td>\n",
              "      <td>8.426732e+05</td>\n",
              "      <td>150251.250000</td>\n",
              "      <td>1435.000000</td>\n",
              "      <td>175.000000</td>\n",
              "      <td>12353.250000</td>\n",
              "      <td>13720.000000</td>\n",
              "      <td>1691.000000</td>\n",
              "      <td>16.000000</td>\n",
              "      <td>1.000000</td>\n",
              "    </tr>\n",
              "    <tr>\n",
              "      <th>max</th>\n",
              "      <td>1.130924e+07</td>\n",
              "      <td>1.045879e+07</td>\n",
              "      <td>850445.000000</td>\n",
              "      <td>319809.000000</td>\n",
              "      <td>171617.000000</td>\n",
              "      <td>95604.000000</td>\n",
              "      <td>71408.000000</td>\n",
              "      <td>7889.000000</td>\n",
              "      <td>1178.000000</td>\n",
              "      <td>2919.000000</td>\n",
              "    </tr>\n",
              "  </tbody>\n",
              "</table>\n",
              "</div>"
            ],
            "text/plain": [
              "          tot_cases    conf_cases     prob_cases       new_case  \\\n",
              "count  6.006000e+04  3.403400e+04   33962.000000   60060.000000   \n",
              "mean   6.569641e+05  6.527994e+05  107357.455686    1601.409574   \n",
              "std    1.173490e+06  1.077693e+06  157946.539796    5074.263900   \n",
              "min    0.000000e+00  0.000000e+00       0.000000  -10199.000000   \n",
              "25%    1.830325e+04  6.512275e+04     169.250000       3.000000   \n",
              "50%    2.228415e+05  2.992460e+05   32175.000000     344.000000   \n",
              "75%    8.158552e+05  8.426732e+05  150251.250000    1435.000000   \n",
              "max    1.130924e+07  1.045879e+07  850445.000000  319809.000000   \n",
              "\n",
              "           pnew_case     tot_death    conf_death    prob_death     new_death  \\\n",
              "count   56534.000000  60060.000000  33273.000000  33273.000000  60060.000000   \n",
              "mean      267.290197   9351.235648   9015.954498   1093.250293     17.365335   \n",
              "std      1439.172514  14591.369916  10431.915891   1549.192666     43.499174   \n",
              "min   -171804.000000      0.000000      0.000000      0.000000   -352.000000   \n",
              "25%         0.000000    361.000000   1377.000000      0.000000      0.000000   \n",
              "50%         1.000000   3241.000000   5193.000000    309.000000      3.000000   \n",
              "75%       175.000000  12353.250000  13720.000000   1691.000000     16.000000   \n",
              "max    171617.000000  95604.000000  71408.000000   7889.000000   1178.000000   \n",
              "\n",
              "         pnew_death  \n",
              "count  56566.000000  \n",
              "mean       1.825584  \n",
              "std       24.534287  \n",
              "min    -2594.000000  \n",
              "25%        0.000000  \n",
              "50%        0.000000  \n",
              "75%        1.000000  \n",
              "max     2919.000000  "
            ]
          },
          "execution_count": 3,
          "metadata": {},
          "output_type": "execute_result"
        }
      ],
      "source": [
        "df.describe()"
      ]
    },
    {
      "cell_type": "code",
      "execution_count": 4,
      "metadata": {},
      "outputs": [
        {
          "data": {
            "text/plain": [
              "230519"
            ]
          },
          "execution_count": 4,
          "metadata": {},
          "output_type": "execute_result"
        }
      ],
      "source": [
        "today = dt.datetime.now()\n",
        "\n",
        "def date_to_int(date_in):\n",
        "    return int(date_in.strftime('%y%m%d'))\n",
        "\n",
        "date_to_int(today)\n",
        "\n"
      ]
    },
    {
      "cell_type": "code",
      "execution_count": 5,
      "metadata": {
        "colab": {
          "base_uri": "https://localhost:8080/"
        },
        "id": "YE9KzA4aE0td",
        "outputId": "efe4736f-be88-4ad7-b009-d679f3a1f5b0"
      },
      "outputs": [
        {
          "name": "stderr",
          "output_type": "stream",
          "text": [
            "C:\\Users\\daniel.s.ross\\AppData\\Local\\Temp\\ipykernel_24884\\1181991368.py:5: SettingWithCopyWarning: \n",
            "A value is trying to be set on a copy of a slice from a DataFrame.\n",
            "Try using .loc[row_indexer,col_indexer] = value instead\n",
            "\n",
            "See the caveats in the documentation: https://pandas.pydata.org/pandas-docs/stable/user_guide/indexing.html#returning-a-view-versus-a-copy\n",
            "  df_va['death_rate'] = df_va.apply(lambda x: x.tot_death/x.tot_cases, axis = 1)\n",
            "C:\\Users\\daniel.s.ross\\AppData\\Local\\Temp\\ipykernel_24884\\1181991368.py:8: SettingWithCopyWarning: \n",
            "A value is trying to be set on a copy of a slice from a DataFrame.\n",
            "Try using .loc[row_indexer,col_indexer] = value instead\n",
            "\n",
            "See the caveats in the documentation: https://pandas.pydata.org/pandas-docs/stable/user_guide/indexing.html#returning-a-view-versus-a-copy\n",
            "  df_va['date'] = pd.to_datetime(df_va['submission_date'])\n",
            "C:\\Users\\daniel.s.ross\\AppData\\Local\\Temp\\ipykernel_24884\\1181991368.py:9: SettingWithCopyWarning: \n",
            "A value is trying to be set on a copy of a slice from a DataFrame.\n",
            "Try using .loc[row_indexer,col_indexer] = value instead\n",
            "\n",
            "See the caveats in the documentation: https://pandas.pydata.org/pandas-docs/stable/user_guide/indexing.html#returning-a-view-versus-a-copy\n",
            "  df_va['date'] = df_va.apply(lambda x: (x.date - df_va['date'].min()).days, axis = 1)\n"
          ]
        },
        {
          "data": {
            "text/html": [
              "<div>\n",
              "<style scoped>\n",
              "    .dataframe tbody tr th:only-of-type {\n",
              "        vertical-align: middle;\n",
              "    }\n",
              "\n",
              "    .dataframe tbody tr th {\n",
              "        vertical-align: top;\n",
              "    }\n",
              "\n",
              "    .dataframe thead th {\n",
              "        text-align: right;\n",
              "    }\n",
              "</style>\n",
              "<table border=\"1\" class=\"dataframe\">\n",
              "  <thead>\n",
              "    <tr style=\"text-align: right;\">\n",
              "      <th></th>\n",
              "      <th>date</th>\n",
              "      <th>death_rate</th>\n",
              "    </tr>\n",
              "  </thead>\n",
              "  <tbody>\n",
              "    <tr>\n",
              "      <th>15526</th>\n",
              "      <td>586</td>\n",
              "      <td>0.014830</td>\n",
              "    </tr>\n",
              "    <tr>\n",
              "      <th>15546</th>\n",
              "      <td>21</td>\n",
              "      <td>0.024510</td>\n",
              "    </tr>\n",
              "    <tr>\n",
              "      <th>15552</th>\n",
              "      <td>863</td>\n",
              "      <td>0.010820</td>\n",
              "    </tr>\n",
              "    <tr>\n",
              "      <th>15608</th>\n",
              "      <td>615</td>\n",
              "      <td>0.015189</td>\n",
              "    </tr>\n",
              "    <tr>\n",
              "      <th>15690</th>\n",
              "      <td>870</td>\n",
              "      <td>0.010725</td>\n",
              "    </tr>\n",
              "  </tbody>\n",
              "</table>\n",
              "</div>"
            ],
            "text/plain": [
              "       date  death_rate\n",
              "15526   586    0.014830\n",
              "15546    21    0.024510\n",
              "15552   863    0.010820\n",
              "15608   615    0.015189\n",
              "15690   870    0.010725"
            ]
          },
          "execution_count": 5,
          "metadata": {},
          "output_type": "execute_result"
        }
      ],
      "source": [
        "# Filter for VA data only\n",
        "df_va = df[(df['tot_cases']>0) & (df['state']=='VA')]\n",
        "\n",
        "# Compute death rate\n",
        "df_va['death_rate'] = df_va.apply(lambda x: x.tot_death/x.tot_cases, axis = 1)\n",
        "\n",
        "# Convert string data to date date\n",
        "df_va['date'] = pd.to_datetime(df_va['submission_date'])\n",
        "df_va['date'] = df_va.apply(lambda x: (x.date - df_va['date'].min()).days, axis = 1)\n",
        "\n",
        "# Select only date and death rate for modeling\n",
        "df_feature = df_va[['date','death_rate']]\n",
        "\n",
        "df_feature.head()"
      ]
    },
    {
      "cell_type": "code",
      "execution_count": 6,
      "metadata": {
        "colab": {
          "base_uri": "https://localhost:8080/",
          "height": 447
        },
        "id": "D7cWGYS5UkXM",
        "outputId": "e2ff5913-9b84-46d8-cb27-e8637f29dd42"
      },
      "outputs": [
        {
          "data": {
            "text/plain": [
              "<matplotlib.collections.PathCollection at 0x183879f1720>"
            ]
          },
          "execution_count": 6,
          "metadata": {},
          "output_type": "execute_result"
        },
        {
          "data": {
            "image/png": "[encoded data removed]",
            "text/plain": [
              "<Figure size 1600x1000 with 1 Axes>"
            ]
          },
          "metadata": {},
          "output_type": "display_data"
        }
      ],
      "source": [
        "plt.figure(figsize=(16,10))\n",
        "#plt.plot_date(df_feature['date'], df_feature['death_rate'])\n",
        "plt.scatter(df_feature['date'], df_feature['death_rate'])"
      ]
    },
    {
      "attachments": {},
      "cell_type": "markdown",
      "metadata": {
        "id": "C3UqveXgMmLZ"
      },
      "source": [
        "## Train/Validation/Test Split\n",
        "\n",
        "We want to do an 80/20/20 split. This is a temporal split"
      ]
    },
    {
      "cell_type": "code",
      "execution_count": 7,
      "metadata": {
        "colab": {
          "base_uri": "https://localhost:8080/"
        },
        "id": "hbxh4yy7V4gu",
        "outputId": "26cf1e2c-0a79-48d5-eb9d-1a82f89e56c4"
      },
      "outputs": [
        {
          "data": {
            "text/plain": [
              "954"
            ]
          },
          "execution_count": 7,
          "metadata": {},
          "output_type": "execute_result"
        }
      ],
      "source": [
        "len(df_feature)"
      ]
    },
    {
      "cell_type": "code",
      "execution_count": 8,
      "metadata": {
        "id": "kIvgWKB4D_qO"
      },
      "outputs": [],
      "source": [
        "# Sort data by date first\n",
        "df_feature = df_feature.sort_values(by='date', ascending=True).reset_index(drop=True)\n",
        "\n",
        "# Split data\n",
        "df_train = df_feature[:574]\n",
        "df_test = df_feature[574:764]\n",
        "df_validate = df_feature[764:]"
      ]
    },
    {
      "cell_type": "code",
      "execution_count": 9,
      "metadata": {},
      "outputs": [
        {
          "data": {
            "text/plain": [
              "574"
            ]
          },
          "execution_count": 9,
          "metadata": {},
          "output_type": "execute_result"
        }
      ],
      "source": [
        "len(df_train)"
      ]
    },
    {
      "attachments": {},
      "cell_type": "markdown",
      "metadata": {
        "id": "q-4XgRmjL1bN"
      },
      "source": [
        "## Train the Model\n",
        "\n",
        "For this example, I suggest we try out An autoregressive integrated moving average (ARIMA) model, an XGBOOST model, or another time series model"
      ]
    },
    {
      "cell_type": "code",
      "execution_count": 10,
      "metadata": {
        "id": "4r_VpqtuNLwn"
      },
      "outputs": [],
      "source": [
        "from numpy import loadtxt\n",
        "from xgboost import XGBRegressor\n",
        "from xgboost import XGBClassifier\n",
        "from sklearn.model_selection import train_test_split\n",
        "from sklearn.metrics import accuracy_score"
      ]
    },
    {
      "cell_type": "code",
      "execution_count": 11,
      "metadata": {},
      "outputs": [],
      "source": [
        "train_x = df_train[['date']]\n",
        "train_y = df_train[['death_rate']]\n",
        "\n",
        "test_x = df_test[['date']]\n",
        "test_y = df_test[['death_rate']]\n",
        "\n",
        "validate_x = df_validate[['date']]\n",
        "validate_y = df_validate[['death_rate']]"
      ]
    },
    {
      "cell_type": "code",
      "execution_count": 12,
      "metadata": {},
      "outputs": [
        {
          "data": {
            "text/plain": [
              "array([  0,   1,   2,   3,   4,   5,   6,   7,   8,   9,  10,  11,  12,\n",
              "        13,  14,  15,  16,  17,  18,  19,  20,  21,  22,  23,  24,  25,\n",
              "        26,  27,  28,  29,  30,  31,  32,  33,  34,  35,  36,  37,  38,\n",
              "        39,  40,  41,  42,  43,  44,  45,  46,  47,  48,  49,  50,  51,\n",
              "        52,  53,  54,  55,  56,  57,  58,  59,  60,  61,  62,  63,  64,\n",
              "        65,  66,  67,  68,  69,  70,  71,  72,  73,  74,  75,  76,  77,\n",
              "        78,  79,  80,  81,  82,  83,  84,  85,  86,  87,  88,  89,  90,\n",
              "        91,  92,  93,  94,  95,  96,  97,  98,  99, 100, 101, 102, 103,\n",
              "       104, 105, 106, 107, 108, 109, 110, 111, 112, 113, 114, 115, 116,\n",
              "       117, 118, 119, 120, 121, 122, 123, 124, 125, 126, 127, 128, 129,\n",
              "       130, 131, 132, 133, 134, 135, 136, 137, 138, 139, 140, 141, 142,\n",
              "       143, 144, 145, 146, 147, 148, 149, 150, 151, 152, 153, 154, 155,\n",
              "       156, 157, 158, 159, 160, 161, 162, 163, 164, 165, 166, 167, 168,\n",
              "       169, 170, 171, 172, 173, 174, 175, 176, 177, 178, 179, 180, 181,\n",
              "       182, 183, 184, 185, 186, 187, 188, 189, 190, 191, 192, 193, 194,\n",
              "       195, 196, 197, 198, 199, 200, 201, 202, 203, 204, 205, 206, 207,\n",
              "       208, 209, 210, 211, 212, 213, 214, 215, 216, 217, 218, 219, 220,\n",
              "       221, 222, 223, 224, 225, 226, 227, 228, 229, 230, 231, 232, 233,\n",
              "       234, 235, 236, 237, 238, 239, 240, 241, 242, 243, 244, 245, 246,\n",
              "       247, 248, 249, 250, 251, 252, 253, 254, 255, 256, 257, 258, 259,\n",
              "       260, 261, 262, 263, 264, 265, 266, 267, 268, 269, 270, 271, 272,\n",
              "       273, 274, 275, 276, 277, 278, 279, 280, 281, 282, 283, 284, 285,\n",
              "       286, 287, 288, 289, 290, 291, 292, 293, 294, 295, 296, 297, 298,\n",
              "       299, 300, 301, 302, 303, 304, 305, 306, 307, 308, 309, 310, 311,\n",
              "       312, 313, 314, 315, 316, 317, 318, 319, 320, 321, 322, 323, 324,\n",
              "       325, 326, 327, 328, 329, 330, 331, 332, 333, 334, 335, 336, 337,\n",
              "       338, 339, 340, 341, 342, 343, 344, 345, 346, 347, 348, 349, 350,\n",
              "       351, 352, 353, 354, 355, 356, 357, 358, 359, 360, 361, 362, 363,\n",
              "       364, 365, 366, 367, 368, 369, 370, 371, 372, 373, 374, 375, 376,\n",
              "       377, 378, 379, 380, 381, 382, 383, 384, 385, 386, 387, 388, 389,\n",
              "       390, 391, 392, 393, 394, 395, 396, 397, 398, 399, 400, 401, 402,\n",
              "       403, 404, 405, 406, 407, 408, 409, 410, 411, 412, 413, 414, 415,\n",
              "       416, 417, 418, 419, 420, 421, 422, 423, 424, 425, 426, 427, 428,\n",
              "       429, 430, 431, 432, 433, 434, 435, 436, 437, 438, 439, 440, 441,\n",
              "       442, 443, 444, 445, 446, 447, 448, 449, 450, 451, 452, 453, 454,\n",
              "       455, 456, 457, 458, 459, 460, 461, 462, 463, 464, 465, 466, 467,\n",
              "       468, 469, 470, 471, 472, 473, 474, 475, 476, 477, 478, 479, 480,\n",
              "       481, 482, 483, 484, 485, 486, 487, 488, 489, 490, 491, 492, 493,\n",
              "       494, 495, 496, 497, 498, 499, 500, 501, 502, 503, 504, 505, 506,\n",
              "       507, 508, 509, 510, 511, 512, 513, 514, 515, 516, 517, 518, 519,\n",
              "       520, 521, 522, 523, 524, 525, 526, 527, 528, 529, 530, 531, 532,\n",
              "       533, 534, 535, 536, 537, 538, 539, 540, 541, 542, 543, 544, 545,\n",
              "       546, 547, 548, 549, 550, 551, 552, 553, 554, 555, 556, 557, 558,\n",
              "       559, 560, 561, 562, 563, 564, 565, 566, 567, 568, 569, 570, 571,\n",
              "       572, 573], dtype=int64)"
            ]
          },
          "execution_count": 12,
          "metadata": {},
          "output_type": "execute_result"
        }
      ],
      "source": [
        "df_train['date'].unique()"
      ]
    },
    {
      "cell_type": "code",
      "execution_count": 13,
      "metadata": {},
      "outputs": [
        {
          "data": {
            "text/html": [
              "<style>#sk-container-id-1 {color: black;background-color: white;}#sk-container-id-1 pre{padding: 0;}#sk-container-id-1 div.sk-toggleable {background-color: white;}#sk-container-id-1 label.sk-toggleable__label {cursor: pointer;display: block;width: 100%;margin-bottom: 0;padding: 0.3em;box-sizing: border-box;text-align: center;}#sk-container-id-1 label.sk-toggleable__label-arrow:before {content: \"▸\";float: left;margin-right: 0.25em;color: #696969;}#sk-container-id-1 label.sk-toggleable__label-arrow:hover:before {color: black;}#sk-container-id-1 div.sk-estimator:hover label.sk-toggleable__label-arrow:before {color: black;}#sk-container-id-1 div.sk-toggleable__content {max-height: 0;max-width: 0;overflow: hidden;text-align: left;background-color: #f0f8ff;}#sk-container-id-1 div.sk-toggleable__content pre {margin: 0.2em;color: black;border-radius: 0.25em;background-color: #f0f8ff;}#sk-container-id-1 input.sk-toggleable__control:checked~div.sk-toggleable__content {max-height: 200px;max-width: 100%;overflow: auto;}#sk-container-id-1 input.sk-toggleable__control:checked~label.sk-toggleable__label-arrow:before {content: \"▾\";}#sk-container-id-1 div.sk-estimator input.sk-toggleable__control:checked~label.sk-toggleable__label {background-color: #d4ebff;}#sk-container-id-1 div.sk-label input.sk-toggleable__control:checked~label.sk-toggleable__label {background-color: #d4ebff;}#sk-container-id-1 input.sk-hidden--visually {border: 0;clip: rect(1px 1px 1px 1px);clip: rect(1px, 1px, 1px, 1px);height: 1px;margin: -1px;overflow: hidden;padding: 0;position: absolute;width: 1px;}#sk-container-id-1 div.sk-estimator {font-family: monospace;background-color: #f0f8ff;border: 1px dotted black;border-radius: 0.25em;box-sizing: border-box;margin-bottom: 0.5em;}#sk-container-id-1 div.sk-estimator:hover {background-color: #d4ebff;}#sk-container-id-1 div.sk-parallel-item::after {content: \"\";width: 100%;border-bottom: 1px solid gray;flex-grow: 1;}#sk-container-id-1 div.sk-label:hover label.sk-toggleable__label {background-color: #d4ebff;}#sk-container-id-1 div.sk-serial::before {content: \"\";position: absolute;border-left: 1px solid gray;box-sizing: border-box;top: 0;bottom: 0;left: 50%;z-index: 0;}#sk-container-id-1 div.sk-serial {display: flex;flex-direction: column;align-items: center;background-color: white;padding-right: 0.2em;padding-left: 0.2em;position: relative;}#sk-container-id-1 div.sk-item {position: relative;z-index: 1;}#sk-container-id-1 div.sk-parallel {display: flex;align-items: stretch;justify-content: center;background-color: white;position: relative;}#sk-container-id-1 div.sk-item::before, #sk-container-id-1 div.sk-parallel-item::before {content: \"\";position: absolute;border-left: 1px solid gray;box-sizing: border-box;top: 0;bottom: 0;left: 50%;z-index: -1;}#sk-container-id-1 div.sk-parallel-item {display: flex;flex-direction: column;z-index: 1;position: relative;background-color: white;}#sk-container-id-1 div.sk-parallel-item:first-child::after {align-self: flex-end;width: 50%;}#sk-container-id-1 div.sk-parallel-item:last-child::after {align-self: flex-start;width: 50%;}#sk-container-id-1 div.sk-parallel-item:only-child::after {width: 0;}#sk-container-id-1 div.sk-dashed-wrapped {border: 1px dashed gray;margin: 0 0.4em 0.5em 0.4em;box-sizing: border-box;padding-bottom: 0.4em;background-color: white;}#sk-container-id-1 div.sk-label label {font-family: monospace;font-weight: bold;display: inline-block;line-height: 1.2em;}#sk-container-id-1 div.sk-label-container {text-align: center;}#sk-container-id-1 div.sk-container {/* jupyter's `normalize.less` sets `[hidden] { display: none; }` but bootstrap.min.css set `[hidden] { display: none !important; }` so we also need the `!important` here to be able to override the default hidden behavior on the sphinx rendered scikit-learn.org. See: https://github.com/scikit-learn/scikit-learn/issues/21755 */display: inline-block !important;position: relative;}#sk-container-id-1 div.sk-text-repr-fallback {display: none;}</style><div id=\"sk-container-id-1\" class=\"sk-top-container\"><div class=\"sk-text-repr-fallback\"><pre>XGBRegressor(base_score=None, booster=None, callbacks=None,\n",
              "             colsample_bylevel=None, colsample_bynode=None,\n",
              "             colsample_bytree=None, early_stopping_rounds=None,\n",
              "             enable_categorical=False, eval_metric=None, feature_types=None,\n",
              "             gamma=None, gpu_id=None, grow_policy=None, importance_type=None,\n",
              "             interaction_constraints=None, learning_rate=None, max_bin=None,\n",
              "             max_cat_threshold=None, max_cat_to_onehot=None,\n",
              "             max_delta_step=None, max_depth=None, max_leaves=None,\n",
              "             min_child_weight=None, missing=nan, monotone_constraints=None,\n",
              "             n_estimators=100, n_jobs=None, num_parallel_tree=None,\n",
              "             predictor=None, random_state=None, ...)</pre><b>In a Jupyter environment, please rerun this cell to show the HTML representation or trust the notebook. <br />On GitHub, the HTML representation is unable to render, please try loading this page with nbviewer.org.</b></div><div class=\"sk-container\" hidden><div class=\"sk-item\"><div class=\"sk-estimator sk-toggleable\"><input class=\"sk-toggleable__control sk-hidden--visually\" id=\"sk-estimator-id-1\" type=\"checkbox\" checked><label for=\"sk-estimator-id-1\" class=\"sk-toggleable__label sk-toggleable__label-arrow\">XGBRegressor</label><div class=\"sk-toggleable__content\"><pre>XGBRegressor(base_score=None, booster=None, callbacks=None,\n",
              "             colsample_bylevel=None, colsample_bynode=None,\n",
              "             colsample_bytree=None, early_stopping_rounds=None,\n",
              "             enable_categorical=False, eval_metric=None, feature_types=None,\n",
              "             gamma=None, gpu_id=None, grow_policy=None, importance_type=None,\n",
              "             interaction_constraints=None, learning_rate=None, max_bin=None,\n",
              "             max_cat_threshold=None, max_cat_to_onehot=None,\n",
              "             max_delta_step=None, max_depth=None, max_leaves=None,\n",
              "             min_child_weight=None, missing=nan, monotone_constraints=None,\n",
              "             n_estimators=100, n_jobs=None, num_parallel_tree=None,\n",
              "             predictor=None, random_state=None, ...)</pre></div></div></div></div></div>"
            ],
            "text/plain": [
              "XGBRegressor(base_score=None, booster=None, callbacks=None,\n",
              "             colsample_bylevel=None, colsample_bynode=None,\n",
              "             colsample_bytree=None, early_stopping_rounds=None,\n",
              "             enable_categorical=False, eval_metric=None, feature_types=None,\n",
              "             gamma=None, gpu_id=None, grow_policy=None, importance_type=None,\n",
              "             interaction_constraints=None, learning_rate=None, max_bin=None,\n",
              "             max_cat_threshold=None, max_cat_to_onehot=None,\n",
              "             max_delta_step=None, max_depth=None, max_leaves=None,\n",
              "             min_child_weight=None, missing=nan, monotone_constraints=None,\n",
              "             n_estimators=100, n_jobs=None, num_parallel_tree=None,\n",
              "             predictor=None, random_state=None, ...)"
            ]
          },
          "execution_count": 13,
          "metadata": {},
          "output_type": "execute_result"
        }
      ],
      "source": [
        "# Fit model no training data\n",
        "model = XGBRegressor()\n",
        "model.fit(train_x, train_y)"
      ]
    },
    {
      "cell_type": "code",
      "execution_count": 14,
      "metadata": {},
      "outputs": [
        {
          "name": "stdout",
          "output_type": "stream",
          "text": [
            "[0.014948765, 0.014948765, 0.014948765, 0.014948765, 0.014948765, 0.014948765, 0.014948765, 0.014948765, 0.014948765, 0.014948765, 0.014948765, 0.014948765, 0.014948765, 0.014948765, 0.014948765, 0.014948765, 0.014948765, 0.014948765, 0.014948765, 0.014948765, 0.014948765, 0.014948765, 0.014948765, 0.014948765, 0.014948765, 0.014948765, 0.014948765, 0.014948765, 0.014948765, 0.014948765, 0.014948765, 0.014948765, 0.014948765, 0.014948765, 0.014948765, 0.014948765, 0.014948765, 0.014948765, 0.014948765, 0.014948765, 0.014948765, 0.014948765, 0.014948765, 0.014948765, 0.014948765, 0.014948765, 0.014948765, 0.014948765, 0.014948765, 0.014948765, 0.014948765, 0.014948765, 0.014948765, 0.014948765, 0.014948765, 0.014948765, 0.014948765, 0.014948765, 0.014948765, 0.014948765, 0.014948765, 0.014948765, 0.014948765, 0.014948765, 0.014948765, 0.014948765, 0.014948765, 0.014948765, 0.014948765, 0.014948765, 0.014948765, 0.014948765, 0.014948765, 0.014948765, 0.014948765, 0.014948765, 0.014948765, 0.014948765, 0.014948765, 0.014948765, 0.014948765, 0.014948765, 0.014948765, 0.014948765, 0.014948765, 0.014948765, 0.014948765, 0.014948765, 0.014948765, 0.014948765, 0.014948765, 0.014948765, 0.014948765, 0.014948765, 0.014948765, 0.014948765, 0.014948765, 0.014948765, 0.014948765, 0.014948765, 0.014948765, 0.014948765, 0.014948765, 0.014948765, 0.014948765, 0.014948765, 0.014948765, 0.014948765, 0.014948765, 0.014948765, 0.014948765, 0.014948765, 0.014948765, 0.014948765, 0.014948765, 0.014948765, 0.014948765, 0.014948765, 0.014948765, 0.014948765, 0.014948765, 0.014948765, 0.014948765, 0.014948765, 0.014948765, 0.014948765, 0.014948765, 0.014948765, 0.014948765, 0.014948765, 0.014948765, 0.014948765, 0.014948765, 0.014948765, 0.014948765, 0.014948765, 0.014948765, 0.014948765, 0.014948765, 0.014948765, 0.014948765, 0.014948765, 0.014948765, 0.014948765, 0.014948765, 0.014948765, 0.014948765, 0.014948765, 0.014948765, 0.014948765, 0.014948765, 0.014948765, 0.014948765, 0.014948765, 0.014948765, 0.014948765, 0.014948765, 0.014948765, 0.014948765, 0.014948765, 0.014948765, 0.014948765, 0.014948765, 0.014948765, 0.014948765, 0.014948765, 0.014948765, 0.014948765, 0.014948765, 0.014948765, 0.014948765, 0.014948765, 0.014948765, 0.014948765, 0.014948765, 0.014948765, 0.014948765, 0.014948765, 0.014948765, 0.014948765, 0.014948765, 0.014948765, 0.014948765, 0.014948765, 0.014948765, 0.014948765, 0.014948765, 0.014948765, 0.014948765, 0.014948765]\n"
          ]
        }
      ],
      "source": [
        "# Make predictions for test data\n",
        "\n",
        "y_pred = model.predict(validate_x)\n",
        "predictions = [value for value in y_pred]\n",
        "\n",
        "y_pred_test = model.predict(test_x)\n",
        "predictions_test = [value for value in y_pred_test]\n",
        "\n",
        "print(predictions)"
      ]
    },
    {
      "cell_type": "code",
      "execution_count": 15,
      "metadata": {},
      "outputs": [
        {
          "data": {
            "text/plain": [
              "<matplotlib.legend.Legend at 0x1838a4bf370>"
            ]
          },
          "execution_count": 15,
          "metadata": {},
          "output_type": "execute_result"
        },
        {
          "data": {
            "image/png": "[encoded data removed]",
            "text/plain": [
              "<Figure size 640x480 with 1 Axes>"
            ]
          },
          "metadata": {},
          "output_type": "display_data"
        }
      ],
      "source": [
        "plt.plot(train_x, train_y, label='Train')\n",
        "plt.plot(validate_x, y_pred, label='Validate')\n",
        "plt.plot(test_x, y_pred_test, label='Test')\n",
        "plt.legend()\n"
      ]
    }
  ],
  "metadata": {
    "colab": {
      "provenance": []
    },
    "kernelspec": {
      "display_name": "Python 3",
      "name": "python3"
    },
    "language_info": {
      "codemirror_mode": {
        "name": "ipython",
        "version": 3
      },
      "file_extension": ".py",
      "mimetype": "text/x-python",
      "name": "python",
      "nbconvert_exporter": "python",
      "pygments_lexer": "ipython3",
      "version": "3.10.11"
    }
  },
  "nbformat": 4,
  "nbformat_minor": 0
}
